{
 "cells": [
  {
   "cell_type": "code",
   "execution_count": 43,
   "id": "ba4c09dc",
   "metadata": {},
   "outputs": [],
   "source": [
    "import pandas as pd"
   ]
  },
  {
   "cell_type": "code",
   "execution_count": 44,
   "id": "7f593f4e",
   "metadata": {},
   "outputs": [],
   "source": [
    "#reading data\n",
    "file_path = \"data.txt\"\n",
    "df = pd.read_csv(file_path,header=None,names=['Population','Profit'])"
   ]
  },
  {
   "cell_type": "code",
   "execution_count": 45,
   "id": "d4f534bd",
   "metadata": {},
   "outputs": [],
   "source": [
    "#calculate all variables\n",
    "x = [df['Population'][i] for i in range(len(df))]\n",
    "y = [df['Profit'][i] for i in range(len(df))]\n",
    "x_squared = [i*i for i in x]\n",
    "xy = [x[i] * y[i] for i in range(len(x))]\n",
    "x_sum = sum(x)\n",
    "y_sum = sum(y)\n",
    "x_squared_sum = sum(x_squared)\n",
    "xy_sum = sum(xy)\n",
    "N = len(x)\n",
    "\n",
    "theta1 = ((N * xy_sum) - (x_sum * y_sum)) / ((N * x_squared_sum) - (x_sum * x_sum))\n",
    "theta0 = (y_sum - (theta1 * x_sum)) / N\n",
    "\n",
    "def predict(theta0, theta1, x):\n",
    "    return (theta0 + (theta1*x))"
   ]
  },
  {
   "cell_type": "code",
   "execution_count": 46,
   "id": "180d295e",
   "metadata": {},
   "outputs": [
    {
     "name": "stdout",
     "output_type": "stream",
     "text": [
      "x_sum: 791.5006000000003, y_sum: 566.3960999999998, \n",
      "x^2_sum: 7896.182453740001, xy_sum: 6336.898425319003\n",
      "theta0: -3.895780878311906, theta1: 1.1930336441895992\n"
     ]
    }
   ],
   "source": [
    "print(f\"x_sum: {x_sum}, y_sum: {y_sum}, \\nx^2_sum: {x_squared_sum}, xy_sum: {xy_sum}\")\n",
    "print(f\"theta0: {theta0}, theta1: {theta1}\")"
   ]
  },
  {
   "cell_type": "code",
   "execution_count": 47,
   "id": "98269221",
   "metadata": {},
   "outputs": [
    {
     "name": "stdout",
     "output_type": "stream",
     "text": [
      "x: 35000, y: 0.2798368763516912\n",
      "x: 70000, y: 4.4554546310152885\n"
     ]
    }
   ],
   "source": [
    "print(f\"x: {35000}, y: {predict(theta0, theta1, 3.5)}\")\n",
    "print(f\"x: {70000}, y: {predict(theta0, theta1, 7)}\")"
   ]
  }
 ],
 "metadata": {
  "kernelspec": {
   "display_name": "Python 3 (ipykernel)",
   "language": "python",
   "name": "python3"
  },
  "language_info": {
   "codemirror_mode": {
    "name": "ipython",
    "version": 3
   },
   "file_extension": ".py",
   "mimetype": "text/x-python",
   "name": "python",
   "nbconvert_exporter": "python",
   "pygments_lexer": "ipython3",
   "version": "3.10.10"
  }
 },
 "nbformat": 4,
 "nbformat_minor": 5
}
