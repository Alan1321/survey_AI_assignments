{
 "cells": [
  {
   "cell_type": "code",
   "execution_count": 106,
   "id": "dc318dca",
   "metadata": {},
   "outputs": [],
   "source": [
    "import pandas as pd\n",
    "import numpy as np\n",
    "from io import StringIO"
   ]
  },
  {
   "cell_type": "code",
   "execution_count": 107,
   "id": "fb64d7e4",
   "metadata": {},
   "outputs": [],
   "source": [
    "column_names = [\"CRIM\", \"ZN\", \"INDUS\", \"CHAS\", \"NOX\", \"RM\", \"AGE\", \"DIS\",\"RAD\", \"TAX\", \"PTRATIO\", \"B\", \"LSTAT\", \"MEDV\"]\n",
    "\n",
    "#reads file and returns a pandas dataFrame\n",
    "def read_data(file_path):\n",
    "    data = []\n",
    "    #read all data\n",
    "    with open(file_path, 'r') as file:\n",
    "        lines = file.readlines()\n",
    "    #only start after line 22 --> where actual values start\n",
    "    for line in lines[22:]:\n",
    "        line = line.strip()\n",
    "        line = line.split()\n",
    "        array_of_floats = [float(val) for val in line]\n",
    "        data.append(array_of_floats)\n",
    "    #data is read with \\n as delimiter, so merge such that we have a row of 14 columns\n",
    "    merged_data = []\n",
    "    for i in range(0, len(data), 2):\n",
    "        merged_array = data[i] + data[i + 1] if i + 1 < len(data) else data[i]\n",
    "        merged_data.append(merged_array)\n",
    "    #once merged convert the 2D array into pandas dataframe\n",
    "    df = pd.DataFrame(merged_data, columns=column_names)\n",
    "    return df"
   ]
  },
  {
   "cell_type": "code",
   "execution_count": 108,
   "id": "2d569e5d",
   "metadata": {},
   "outputs": [],
   "source": [
    "#utils methods\n",
    "def multiply_arrays(a, b):\n",
    "    result = [x * y for x, y in zip(a, b)]\n",
    "    return result\n",
    "\n",
    "def get_xy_values(df, row, variables):\n",
    "    col_size = df.shape[1]\n",
    "    x = [1]\n",
    "    for i in range(col_size - 1):\n",
    "        x.append(df[variables[i]][row])\n",
    "    y = df[variables[col_size-1]][row]\n",
    "    return x, y\n",
    "\n",
    "def multiply_num_and_list(num, arr):\n",
    "    result = [element * num for element in arr]\n",
    "    return result\n",
    "\n",
    "def subtract_list(list1, list2):\n",
    "    result = [a - b for a, b in zip(list1, list2)]\n",
    "    return result\n"
   ]
  },
  {
   "cell_type": "code",
   "execution_count": 119,
   "id": "8e793d55",
   "metadata": {},
   "outputs": [],
   "source": [
    "def general_cost_function(df: pd.DataFrame, thetas: list, variables: list):\n",
    "    total_rows = len(df)\n",
    "    total_columns = df.shape[1]\n",
    "    sum_0 = 0\n",
    "    for i in range(total_rows):\n",
    "        x, y = get_xy_values(df, i, variables)\n",
    "        sum_0 += pow(sum(multiply_arrays(thetas,x)) - y, 2)\n",
    "    sum_0 = sum_0 / (2*total_rows)\n",
    "    return sum_0\n",
    "\n",
    "def general_differentiation(df: pd.DataFrame, thetas: list, variables: list):\n",
    "    total_rows = len(df)\n",
    "    total_columns = df.shape[1]\n",
    "    #for theta0\n",
    "    sum_0 = 0\n",
    "    for row in range(total_rows):\n",
    "        x, y = get_xy_values(df, row, variables)\n",
    "        sum_0 += sum(multiply_arrays(thetas,x)) - y\n",
    "    sum_0 = sum_0 / total_rows\n",
    "    \n",
    "    #for other thetas\n",
    "    theta_sums = [0 for i in range(total_columns - 1)]\n",
    "    index = 0\n",
    "    for k in range(len(thetas)-1):\n",
    "        for row in range(total_rows):\n",
    "            x, y = get_xy_values(df, row, variables)\n",
    "            theta_sums[index] = theta_sums[index] + (sum(multiply_arrays(thetas,x)) - y) * x[index+1]\n",
    "        theta_sums[index] = theta_sums[index] / total_rows\n",
    "        index += 1\n",
    "    theta_sums = [sum_0] + theta_sums\n",
    "#     print(f\"differentiation:{theta_sums}\")\n",
    "    return theta_sums\n",
    "    \n",
    "    \n",
    "#TODO: pass thetas as np array\n",
    "def general_gradient_descent(df: pd.DataFrame, thetas: list, variables: list, alpha: float, cost_difference):\n",
    "    prev_cost = general_cost_function(df, thetas, variables)\n",
    "    thetas = subtract_list(thetas, multiply_num_and_list(alpha, general_differentiation(df, thetas, variables)))\n",
    "    cost = general_cost_function(df, thetas, variables)\n",
    "    if(abs(prev_cost - cost) > cost_difference):\n",
    "#         print(f\"prev_cost:{prev_cost}, current_cost:{cost}, difference:{abs(prev_cost - cost)}, theta:{thetas}\\n------\")\n",
    "        return general_gradient_descent(df, thetas, variables, alpha, cost_difference)\n",
    "    return thetas"
   ]
  },
  {
   "cell_type": "code",
   "execution_count": 120,
   "id": "e510ed1c",
   "metadata": {},
   "outputs": [],
   "source": [
    "def normalize(df, variables):\n",
    "    length = len(variables) - 1\n",
    "    for i in range(length):\n",
    "        mean = df[variables[i]].mean()\n",
    "        std = df[variables[i]].std()\n",
    "        if mean != 0:\n",
    "            df.loc[:, variables[i]] = (df[variables[i]] - mean)/std\n",
    "    return df"
   ]
  },
  {
   "cell_type": "code",
   "execution_count": 121,
   "id": "115b3266",
   "metadata": {},
   "outputs": [],
   "source": [
    "#constants\n",
    "file_path = \"boston.txt\"\n",
    "theta0 = 0\n",
    "theta1 = 0\n",
    "theta2 = 0\n",
    "alpha = 0.01\n",
    "cost_difference = 0.001\n",
    "\n",
    "df = read_data(file_path)"
   ]
  },
  {
   "cell_type": "code",
   "execution_count": 122,
   "id": "0f227dfd",
   "metadata": {},
   "outputs": [],
   "source": [
    "variables = [\"DIS\", \"RAD\", \"NOX\"]\n",
    "partial_data = df[variables]\n",
    "train_partial_data = partial_data[0:456]\n",
    "train_partial_data = normalize(train_partial_data, variables)\n",
    "test_partial_data = partial_data[456:]"
   ]
  },
  {
   "cell_type": "code",
   "execution_count": 123,
   "id": "5500e5bd",
   "metadata": {},
   "outputs": [],
   "source": [
    "init_thetas = [0 for i in range(len(variables))]\n",
    "thetas = general_gradient_descent(train_partial_data, init_thetas, variables, alpha, cost_difference)"
   ]
  },
  {
   "cell_type": "code",
   "execution_count": 124,
   "id": "b2cb420d",
   "metadata": {},
   "outputs": [
    {
     "name": "stdout",
     "output_type": "stream",
     "text": [
      "[0.23935742629289952, -0.036155483356138426, 0.02797794507164229]\n"
     ]
    }
   ],
   "source": [
    "print(thetas)"
   ]
  },
  {
   "cell_type": "code",
   "execution_count": 125,
   "id": "e47afc42",
   "metadata": {},
   "outputs": [],
   "source": [
    "def predict(df: pd.DataFrame, thetas: list, variables: list):\n",
    "    total_rows = len(df)\n",
    "    total_columns = df.shape[1]\n",
    "    sum_0 = 0\n",
    "    for row in range(total_rows):\n",
    "        x, y = get_xy_values(df, df.index[0]+row, variables)\n",
    "        y_hat = sum(multiply_arrays(thetas, x))\n",
    "        sum_0 += pow(y_hat - y,2)\n",
    "    return sum_0"
   ]
  },
  {
   "cell_type": "code",
   "execution_count": 126,
   "id": "74c3eddc",
   "metadata": {},
   "outputs": [],
   "source": [
    "partial_data = df[variables]\n",
    "test_partial_data = partial_data[456:]"
   ]
  },
  {
   "cell_type": "code",
   "execution_count": 127,
   "id": "c6cb4bd1",
   "metadata": {},
   "outputs": [],
   "source": [
    "test_partial_data = normalize(test_partial_data, variables)"
   ]
  },
  {
   "cell_type": "code",
   "execution_count": 128,
   "id": "f699aed2",
   "metadata": {},
   "outputs": [
    {
     "data": {
      "text/plain": [
       "6.902196658062949"
      ]
     },
     "execution_count": 128,
     "metadata": {},
     "output_type": "execute_result"
    }
   ],
   "source": [
    "predict(test_partial_data, thetas, variables)"
   ]
  },
  {
   "cell_type": "code",
   "execution_count": null,
   "id": "56a7e82f",
   "metadata": {},
   "outputs": [],
   "source": []
  },
  {
   "cell_type": "code",
   "execution_count": null,
   "id": "24cd6656",
   "metadata": {},
   "outputs": [],
   "source": []
  }
 ],
 "metadata": {
  "kernelspec": {
   "display_name": "Python 3 (ipykernel)",
   "language": "python",
   "name": "python3"
  },
  "language_info": {
   "codemirror_mode": {
    "name": "ipython",
    "version": 3
   },
   "file_extension": ".py",
   "mimetype": "text/x-python",
   "name": "python",
   "nbconvert_exporter": "python",
   "pygments_lexer": "ipython3",
   "version": "3.10.10"
  }
 },
 "nbformat": 4,
 "nbformat_minor": 5
}
