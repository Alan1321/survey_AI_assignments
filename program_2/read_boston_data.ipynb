{
 "cells": [
  {
   "cell_type": "code",
   "execution_count": 97,
   "id": "ceb2c111",
   "metadata": {},
   "outputs": [],
   "source": [
    "import pandas as pd\n",
    "from io import StringIO"
   ]
  },
  {
   "cell_type": "code",
   "execution_count": 130,
   "id": "9e753614",
   "metadata": {},
   "outputs": [],
   "source": [
    "column_names = [\"CRIM\", \"ZN\", \"INDUS\", \"CHAS\", \"NOX\", \"RM\", \"AGE\", \"DIS\",\"RAD\", \"TAX\", \"PTRATIO\", \"B\", \"LSTAT\", \"MEDV\"]\n",
    "\n",
    "#reads file and returns a pandas dataFrame\n",
    "def read_data(file_path):\n",
    "    data = []\n",
    "    #read all data\n",
    "    with open(file_path, 'r') as file:\n",
    "        lines = file.readlines()\n",
    "    #only start after line 22 --> where actual values start\n",
    "    for line in lines[22:]:\n",
    "        line = line.strip()\n",
    "        line = line.split()\n",
    "        array_of_floats = [float(val) for val in line]\n",
    "        data.append(array_of_floats)\n",
    "    #data is read with \\n as delimiter, so merge such that we have a row of 14 columns\n",
    "    merged_data = []\n",
    "    for i in range(0, len(data), 2):\n",
    "        merged_array = data[i] + data[i + 1] if i + 1 < len(data) else data[i]\n",
    "        merged_data.append(merged_array)\n",
    "    #once merged convert the 2D array into pandas dataframe\n",
    "    df = pd.DataFrame(merged_data, columns=column_names)\n",
    "    return df"
   ]
  },
  {
   "cell_type": "code",
   "execution_count": 131,
   "id": "99f2c1a6",
   "metadata": {},
   "outputs": [],
   "source": [
    "#TODO: formulaize differentiationa and gradient descent on paper\n",
    "\n",
    "#TODO: split cost function also 2 variables vs rest of variables\n",
    "def cost_function(df, theta0, theta1, theta2):\n",
    "    m = len(df)\n",
    "    sum = 0\n",
    "    for i in range(m):\n",
    "        x1 = df['CRIM'][i]\n",
    "        x2 = df['ZN'][i]\n",
    "        y = df['NOX'][i]\n",
    "        sum += pow((theta0 + (theta1 * x1) + (theta2 * x2) - y), 2)\n",
    "    sum = sum / (2*m)\n",
    "    return sum    \n",
    "\n",
    "def differentiate_theta0(df, theta0, theta1, theta2):\n",
    "    m = len(df)\n",
    "    sum = 0\n",
    "    for i in range(m):\n",
    "        x1 = df['CRIM'][i]\n",
    "        x2 = df['ZN'][i]\n",
    "        y = df['NOX'][i]\n",
    "        sum += (theta0 + (theta1 * x1) + (theta2 * x2) - y)\n",
    "    sum = sum / m\n",
    "    return sum\n",
    "\n",
    "#TODO: this can be renamed as differentiate_otherTHetas?\n",
    "def differentiate_theta1(df, theta0, theta1, theta2):\n",
    "    m = len(df)\n",
    "    sum = 0\n",
    "    for i in range(m):\n",
    "        x1 = df['CRIM'][i]\n",
    "        x2 = df['ZN'][i]\n",
    "        y = df['NOX'][i]\n",
    "        sum += (theta0 + (theta1 * x1) + (theta2 * x2) - y) * x1\n",
    "    sum = sum / m\n",
    "    return sum\n",
    "\n",
    "def differentiate_theta2(df, theta0, theta1, theta2):\n",
    "    m = len(df)\n",
    "    sum = 0\n",
    "    for i in range(m):\n",
    "        x1 = df['CRIM'][i]\n",
    "        x2 = df['ZN'][i]\n",
    "        y = df['NOX'][i]\n",
    "        sum += (theta0 + (theta1 * x1) + (theta2 * x2) - y) * x2\n",
    "    sum = sum / m\n",
    "    return sum\n",
    "\n",
    "#TODO: split gradient descent 2 variables vs rest of variables\n",
    "def gradient_descent(df, theta0, theta1, theta2, alpha, cost_difference):\n",
    "    prev_cost = cost_function(df, theta0, theta1, theta2)\n",
    "    tmp_theta0 = theta0 - (alpha*differentiate_theta0(df, theta0, theta1, theta2))\n",
    "    tmp_theta1 = theta1 - (alpha*differentiate_theta1(df, theta0, theta1, theta2))\n",
    "    tmp_theta2 = theta2 - (alpha*differentiate_theta2(df, theta0, theta1, theta2))\n",
    "    theta0 = tmp_theta0\n",
    "    theta1 = tmp_theta1\n",
    "    theta2 = tmp_theta2\n",
    "    cost = cost_function(df, theta0, theta1, theta2)\n",
    "    if(abs(prev_cost - cost) > cost_difference):\n",
    "        return gradient_descent(df, theta0, theta1, theta2, alpha, cost_difference)\n",
    "    return theta0, theta1, theta2"
   ]
  },
  {
   "cell_type": "code",
   "execution_count": 132,
   "id": "627b448f",
   "metadata": {},
   "outputs": [],
   "source": [
    "def general_differentiation(df: pd.DataFrame, thetas: list):\n",
    "    pass\n",
    "\n",
    "def general_gradient_descent(df: pd.DataFrame, thetas: list, alpha: float, cost_difference: float):\n",
    "    pass"
   ]
  },
  {
   "cell_type": "code",
   "execution_count": 133,
   "id": "2ea9abfd",
   "metadata": {},
   "outputs": [],
   "source": [
    "#constants\n",
    "file_path = \"boston.txt\"\n",
    "theta0 = 0\n",
    "theta1 = 0\n",
    "theta2 = 0\n",
    "alpha = 0.01\n",
    "cost_difference = 0.001"
   ]
  },
  {
   "cell_type": "code",
   "execution_count": 134,
   "id": "47ce8204",
   "metadata": {},
   "outputs": [],
   "source": [
    "df = read_data(file_path)"
   ]
  },
  {
   "cell_type": "code",
   "execution_count": 135,
   "id": "274b6955",
   "metadata": {},
   "outputs": [],
   "source": [
    "partial_data = df[[\"CRIM\", \"ZN\", \"NOX\"]]\n",
    "train_partial_data = partial_data[0:456]\n",
    "test_partial_data = partial_data[456:]"
   ]
  },
  {
   "cell_type": "code",
   "execution_count": 136,
   "id": "f5788f09",
   "metadata": {},
   "outputs": [
    {
     "name": "stderr",
     "output_type": "stream",
     "text": [
      "/tmp/ipykernel_27416/3880611206.py:11: RuntimeWarning: overflow encountered in scalar add\n",
      "  sum += pow((theta0 + (theta1 * x1) + (theta2 * x2) - y), 2)\n",
      "/tmp/ipykernel_27416/3880611206.py:11: RuntimeWarning: overflow encountered in scalar power\n",
      "  sum += pow((theta0 + (theta1 * x1) + (theta2 * x2) - y), 2)\n",
      "/tmp/ipykernel_27416/3880611206.py:59: RuntimeWarning: invalid value encountered in scalar subtract\n",
      "  if(abs(prev_cost - cost) > cost_difference):\n"
     ]
    }
   ],
   "source": [
    "theta0, theta1, theta2 = gradient_descent(train_partial_data, theta0, theta1, theta2, alpha, cost_difference)"
   ]
  },
  {
   "cell_type": "code",
   "execution_count": 137,
   "id": "1ba35aa1",
   "metadata": {},
   "outputs": [
    {
     "name": "stdout",
     "output_type": "stream",
     "text": [
      "Theta0: 6.823236776450535e+150, Theta1: 6.7090708106058835e+149, Theta2: 4.0288206056811743e+152\n"
     ]
    }
   ],
   "source": [
    "print(f\"Theta0: {theta0}, Theta1: {theta1}, Theta2: {theta2}\")"
   ]
  },
  {
   "cell_type": "code",
   "execution_count": null,
   "id": "2fab9707",
   "metadata": {},
   "outputs": [],
   "source": []
  }
 ],
 "metadata": {
  "kernelspec": {
   "display_name": "Python 3 (ipykernel)",
   "language": "python",
   "name": "python3"
  },
  "language_info": {
   "codemirror_mode": {
    "name": "ipython",
    "version": 3
   },
   "file_extension": ".py",
   "mimetype": "text/x-python",
   "name": "python",
   "nbconvert_exporter": "python",
   "pygments_lexer": "ipython3",
   "version": "3.10.10"
  }
 },
 "nbformat": 4,
 "nbformat_minor": 5
}
